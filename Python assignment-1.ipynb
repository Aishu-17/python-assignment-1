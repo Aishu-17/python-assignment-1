{
 "cells": [
  {
   "cell_type": "markdown",
   "metadata": {},
   "source": [
    "1.Explain the key features of Python that make it a popular choice for programming\n",
    "\n",
    "Python is popular because of its:\n",
    "\n",
    "Simple Syntax: Easy to learn and read, similar to English.\n",
    "\n",
    "Interpreted Language: Code runs line by line, aiding debugging.\n",
    "\n",
    "Dynamic Typing: No need for explicit variable type declarations.\n",
    "\n",
    "Rich Library: Extensive standard and third-party libraries for various tasks.\n",
    "\n",
    "Multi-Paradigm: Supports object-oriented, procedural, and functional programming.\n",
    "\n",
    "Cross-Platform: Runs on multiple operating systems without modifications.\n",
    "\n",
    "Active Community: Large support base with resources and continuous development.\n",
    "\n",
    "Specialized Libraries: Powerful libraries for data science, web development, and AI.\n",
    "\n",
    "Integration: Easily integrates with other languages for performance needs.\n",
    "\n",
    "These features make Python versatile, accessible, and ideal for many applications."
   ]
  },
  {
   "cell_type": "markdown",
   "metadata": {},
   "source": [
    "2.Describe the role of predefined keywords in Python and provide examples of how they are used in a\n",
    "program\n",
    "\n",
    "Predefined keywords in Python are reserved words that have specific meanings and cannot be used as identifiers (e.g., variable or function names). "
   ]
  },
  {
   "cell_type": "code",
   "execution_count": 1,
   "metadata": {},
   "outputs": [
    {
     "name": "stdout",
     "output_type": "stream",
     "text": [
      "a is greater than 2000\n"
     ]
    }
   ],
   "source": [
    "#if,elif,else are keywords so these cannot be used as variables or functions\n",
    "a=10000\n",
    "if a<100:\n",
    "    print(\"a is less than 100\")\n",
    "elif a>2000:\n",
    "    print(\"a is greater than 2000\")\n",
    "\n",
    "else:\n",
    "    print(\"a is equals to 100\")"
   ]
  },
  {
   "cell_type": "code",
   "execution_count": 2,
   "metadata": {},
   "outputs": [
    {
     "name": "stdout",
     "output_type": "stream",
     "text": [
      "01234"
     ]
    }
   ],
   "source": [
    "#for, continue, break are also examples of keywords\n",
    "for j in range(5):\n",
    "    print(j,end=\"\")\n",
    "    continue\n",
    "    if i==2:\n",
    "        break"
   ]
  },
  {
   "cell_type": "markdown",
   "metadata": {},
   "source": [
    "3.Compare and contrast mutable and immutable objects in Python with examples\n",
    "\n",
    "-mutable object: Can be modified after creation.\n",
    "Examples: Lists\n",
    "-immutable objects: cannot be modified after creation.\n",
    "Example:strings"
   ]
  },
  {
   "cell_type": "code",
   "execution_count": null,
   "metadata": {},
   "outputs": [],
   "source": [
    "my_list = [1, 2, 3]\n",
    "my_list[0] = 10 #replaces 1 with 10\n",
    "print(my_list)"
   ]
  },
  {
   "cell_type": "code",
   "execution_count": null,
   "metadata": {},
   "outputs": [],
   "source": [
    "my_string = \"Hello\"\n",
    "my_string[0] = J #cannot replace H to J since strings are immutable \n",
    "print(my_string)"
   ]
  },
  {
   "cell_type": "code",
   "execution_count": null,
   "metadata": {},
   "outputs": [],
   "source": [
    "my_string = \"Hello\"\n",
    "my_string.replace(\"H\", \"J\")#cannot replace H to J since strings are immutable \n",
    "print(my_string)"
   ]
  },
  {
   "cell_type": "code",
   "execution_count": null,
   "metadata": {},
   "outputs": [],
   "source": [
    "my_string = \"Hello\"\n",
    "new_string = my_string.replace(\"H\", \"J\") #we can't change the my_string after assigning but will be able to replace and store it in a new string\n",
    "print(my_string)  \n",
    "print(new_string)"
   ]
  },
  {
   "cell_type": "markdown",
   "metadata": {},
   "source": [
    "4. Discuss the different types of operators in Python and provide examples of how they are used\n",
    "\n",
    "In Python, operators are special symbols used to perform operations on variables and values."
   ]
  },
  {
   "cell_type": "code",
   "execution_count": null,
   "metadata": {},
   "outputs": [],
   "source": [
    "a = 10\n",
    "b = 5\n",
    "c = a + b   # Addition\n",
    "\n",
    "# Comparison\n",
    "is_equal = (c == 15)\n",
    "\n",
    "# Logical\n",
    "logical_result = (is_equal and b > 2)\n",
    "\n",
    "# Bitwise\n",
    "bitwise_result = a & b\n",
    "\n",
    "# Identity\n",
    "identity_check = (a is not b)\n",
    "\n",
    "# Membership\n",
    "my_list = [1, 2, 3]\n",
    "membership_check = (b in my_list)\n",
    "\n",
    "# Ternary\n",
    "result = \"Greater\" if a > b else \"Smaller\"\n",
    "\n",
    "print(c, is_equal, logical_result, bitwise_result, identity_check, membership_check, result)"
   ]
  },
  {
   "cell_type": "markdown",
   "metadata": {},
   "source": [
    "5. Explain the concept of type casting in Python with examples\n",
    "\n",
    "Type casting (also known as type conversion) in Python is the process of converting a value from one data type to another It is of two types implicit and explicit typecasting"
   ]
  },
  {
   "cell_type": "code",
   "execution_count": null,
   "metadata": {},
   "outputs": [],
   "source": [
    "#Implicit type casting\n",
    "a=2\n",
    "b=2.5\n",
    "c=a+b\n",
    "print(c) #automactically converted to float"
   ]
  },
  {
   "cell_type": "code",
   "execution_count": null,
   "metadata": {},
   "outputs": [],
   "source": [
    "#Explicit type casting\n",
    "a=2\n",
    "float(a) #manually trying to convert the type"
   ]
  },
  {
   "cell_type": "code",
   "execution_count": null,
   "metadata": {},
   "outputs": [],
   "source": [
    "a=2\n",
    "str(a)"
   ]
  },
  {
   "cell_type": "code",
   "execution_count": null,
   "metadata": {},
   "outputs": [],
   "source": [
    "a=\"hello\"\n",
    "list(a)"
   ]
  },
  {
   "cell_type": "markdown",
   "metadata": {},
   "source": [
    "6. How do conditional statements work in Python? Illustrate with examples\n",
    "\n",
    "Conditional statements in Python are used to execute specific blocks of code based on whether a certain condition is True or False"
   ]
  },
  {
   "cell_type": "code",
   "execution_count": null,
   "metadata": {},
   "outputs": [],
   "source": [
    "x = 10\n",
    "if x > 5:\n",
    "    print(\"x is greater than 5\")"
   ]
  },
  {
   "cell_type": "code",
   "execution_count": null,
   "metadata": {},
   "outputs": [],
   "source": [
    "x = 3\n",
    "if x % 2 == 0:\n",
    "    print(\"x is even\")\n",
    "else:\n",
    "    print(\"x is odd\")"
   ]
  },
  {
   "cell_type": "code",
   "execution_count": null,
   "metadata": {},
   "outputs": [],
   "source": [
    "x = 7\n",
    "if x < 5:\n",
    "    print(\"x is less than 5\")\n",
    "elif x == 5:\n",
    "    print(\"x is equal to 5\")\n",
    "else:\n",
    "    print(\"x is greater than 5\")"
   ]
  },
  {
   "cell_type": "markdown",
   "metadata": {},
   "source": [
    "7.Describe the different types of loops in Python and their use cases with examples.\n",
    "\n",
    " Loops are used to repeat a block of code multiple times. There are two main types of loops: for and while loop"
   ]
  },
  {
   "cell_type": "code",
   "execution_count": null,
   "metadata": {},
   "outputs": [],
   "source": [
    "#for loop\n",
    "fruits = [\"apple\", \"banana\", \"cherry\"]\n",
    "for fruit in fruits:\n",
    "    print(fruit)"
   ]
  },
  {
   "cell_type": "code",
   "execution_count": null,
   "metadata": {},
   "outputs": [],
   "source": [
    "#for loop using range\n",
    "for i in range(3):\n",
    "    print(i)"
   ]
  },
  {
   "cell_type": "code",
   "execution_count": null,
   "metadata": {},
   "outputs": [],
   "source": [
    "#break and continue in for loop\n",
    "for num in range(1, 11):\n",
    "    if num == 4:\n",
    "        continue  # Skip the rest of the loop when num is 4\n",
    "    print(\"Current number:\", num)\n",
    "    \n",
    "    if num == 7:\n",
    "        break  # Exit the loop when num reaches 7"
   ]
  },
  {
   "cell_type": "code",
   "execution_count": null,
   "metadata": {},
   "outputs": [],
   "source": [
    "#while loop\n",
    "count = 0\n",
    "while count < 3:\n",
    "    print(\"Count is:\", count)\n",
    "    count += 1"
   ]
  },
  {
   "cell_type": "code",
   "execution_count": null,
   "metadata": {},
   "outputs": [],
   "source": [
    "#break and continue in while \n",
    "count = 0\n",
    "\n",
    "while count < 10:\n",
    "    count += 1\n",
    "    \n",
    "    if count == 5:\n",
    "        continue  # Skip the rest of the loop when count is 5\n",
    "    \n",
    "    print(\"Count is:\", count)\n",
    "    \n",
    "    if count == 8:\n",
    "        break  # Exit the loop when count reaches 8"
   ]
  }
 ],
 "metadata": {
  "kernelspec": {
   "display_name": ".venv",
   "language": "python",
   "name": "python3"
  },
  "language_info": {
   "codemirror_mode": {
    "name": "ipython",
    "version": 3
   },
   "file_extension": ".py",
   "mimetype": "text/x-python",
   "name": "python",
   "nbconvert_exporter": "python",
   "pygments_lexer": "ipython3",
   "version": "3.12.3"
  }
 },
 "nbformat": 4,
 "nbformat_minor": 2
}
